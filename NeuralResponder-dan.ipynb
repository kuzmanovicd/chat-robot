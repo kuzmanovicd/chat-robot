{
 "cells": [
  {
   "cell_type": "code",
   "execution_count": 1,
   "metadata": {
    "collapsed": false,
    "deletable": true,
    "editable": true
   },
   "outputs": [],
   "source": [
    "import tensorflow as tf\n",
    "import numpy as np\n",
    "\n",
    "# preprocessed data\n",
    "from datasets.danijela import data\n",
    "import data_utils\n",
    "import s2s"
   ]
  },
  {
   "cell_type": "code",
   "execution_count": 2,
   "metadata": {
    "collapsed": false,
    "deletable": true,
    "editable": true
   },
   "outputs": [
    {
     "name": "stdout",
     "output_type": "stream",
     "text": [
      "Building graph...\n",
      "Done...\n"
     ]
    }
   ],
   "source": [
    "\n",
    "# load data from pickle and npy files\n",
    "metadata, idx_q, idx_a = data.load_data(PATH='datasets/danijela/')\n",
    "(trainX, trainY), (testX, testY), (validX, validY) = data_utils.split_dataset(idx_q, idx_a)\n",
    "\n",
    "# parameters \n",
    "x_len = trainX.shape[-1]\n",
    "y_len = trainY.shape[-1]\n",
    "batch_size = 64\n",
    "x_vocab_size = len(metadata['idx2w'])  \n",
    "y_vocab_size = x_vocab_size\n",
    "emb_dim = 364\n",
    "num_layers = 2\n",
    "\n",
    "model = s2s.S2S(x_len=x_len,\n",
    "                y_len=y_len,\n",
    "                x_vocab_size=x_vocab_size,\n",
    "                y_vocab_size=y_vocab_size,\n",
    "                ckpt_path='ckpt/dan/',\n",
    "                emb_dim=emb_dim,\n",
    "                num_layers=num_layers)"
   ]
  },
  {
   "cell_type": "code",
   "execution_count": 3,
   "metadata": {
    "collapsed": true,
    "deletable": true,
    "editable": true
   },
   "outputs": [],
   "source": [
    "sess = model.restore_last_session()"
   ]
  },
  {
   "cell_type": "code",
   "execution_count": 103,
   "metadata": {
    "collapsed": false,
    "deletable": true,
    "editable": true
   },
   "outputs": [
    {
     "name": "stdout",
     "output_type": "stream",
     "text": [
      "(25, 10)\n",
      "q: [poskupljuje pivo]; a: [uci :p e sta ti]\n",
      "q: [ma to :d evo smor mi, hteo da idemo na caj odo sitra kuci]; a: [nadoknadi ti za 5 za koga mi budem ljuta]\n",
      "q: [ahaa odo <3]; a: [aj sta ce sa mnom]\n",
      "q: [ucite li? :d]; a: [jok  ako pisem]\n",
      "q: [kazna od kontrole komentar na onu fotku sa tvrdjave]; a: [nezz zavisi kad mojo zavrse ovde]\n",
      "q: [good.]; a: [ma sta ti  smajli]\n",
      "q: [kako je na malinjaku? :p]; a: [pa dejane majku mu jeel uvek moras biti najgori :d]\n",
      "q: [69.5/70 pojeo sam ovaj fakultet e]; a: [onda te briga :d pa majmune]\n",
      "q: [e na unk sam jos]; a: [jebo tebew jaoo ala si bosanac nista cekaj cimera]\n",
      "q: [a sta sa njim samo? :p]; a: [idii mrs a nije jos sto sam snimala da sam polozila ovi reci bi reci :d]\n"
     ]
    }
   ],
   "source": [
    "test_batch_gen = data_utils.rand_batch_gen(testX, testY, 10)\n",
    "\n",
    "input_ = test_batch_gen.__next__()[0]\n",
    "\n",
    "print(input_.shape)\n",
    "#print(input_)\n",
    "output = model.predict(sess, input_)\n",
    "\n",
    "replies = []\n",
    "for ii, oi in zip(input_.T, output):\n",
    "    q = data_utils.decode(sequence=ii, lookup=metadata['idx2w'], separator=' ')\n",
    "    decoded = data_utils.decode(sequence=oi, lookup=metadata['idx2w'], separator=' ').split(' ')\n",
    "    \n",
    "    #print(ii)\n",
    "    #print(q)\n",
    "    #print(decoded)\n",
    "\n",
    "    if decoded.count('unk') == 0:\n",
    "        if decoded not in replies:\n",
    "            print('q: [{0}]; a: [{1}]'.format(q, ' '.join(decoded)))\n",
    "            replies.append(decoded)"
   ]
  },
  {
   "cell_type": "code",
   "execution_count": 6,
   "metadata": {
    "collapsed": false,
    "deletable": true,
    "editable": true,
    "scrolled": true
   },
   "outputs": [],
   "source": [
    "def sentence_to_indexes(sen):\n",
    "    words = sen.split(' ')\n",
    "    \n",
    "    indices = []\n",
    "    \n",
    "    for word in words:\n",
    "        indices.append(metadata['w2idx'][word])\n",
    "    \n",
    "    indices = indices + [0]*(25 - len(indices))\n",
    "    \n",
    "    arr = np.array([indices])\n",
    "    arr = np.transpose(arr)\n",
    "    return arr\n",
    "\n",
    "def ask(str):\n",
    "    input_ = sentence_to_indexes(str)\n",
    "\n",
    "    #print(input_.shape)\n",
    "    #print(input_)\n",
    "    output = model.predict(sess, input_)\n",
    "    #print(output)\n",
    "    #test = model.advance_predict(sess, input_)\n",
    "\n",
    "    for i in output:\n",
    "        decoded = data_utils.decode(sequence=i, lookup=metadata['idx2w'], separator=' ').split(' ')\n",
    "        print('q: [{0}]; a: [{1}]'.format(str, ' '.join(decoded)))\n",
    "        #print(' '.join(decoded))\n"
   ]
  },
  {
   "cell_type": "code",
   "execution_count": 101,
   "metadata": {
    "collapsed": false,
    "deletable": true,
    "editable": true
   },
   "outputs": [
    {
     "name": "stdout",
     "output_type": "stream",
     "text": [
      "q: [evo ne znam sta da radim sve mi dosadilo vise :d]; a: [milinaaa sad se lep stalno sto]\n"
     ]
    }
   ],
   "source": [
    "ask('')"
   ]
  },
  {
   "cell_type": "code",
   "execution_count": 82,
   "metadata": {
    "collapsed": false,
    "deletable": true,
    "editable": true
   },
   "outputs": [
    {
     "name": "stdout",
     "output_type": "stream",
     "text": [
      "(4,)\n"
     ]
    }
   ],
   "source": [
    "q: [sta radis]; a: [nistaa smor brate]\n",
    "q: [cao]; a: [e cao :d]\n",
    "q: [kravo jedna]; a: [volim i ja tebe :p ajmo na pivo :d]\n",
    "q: [kad ces u ns ?]; a: [dok ne ustanem ne znam mozda pila 12]\n",
    "q: [sta delas]; a: [ma smaram se skoro sam zaspala ali se ne odjavljujem :d sta ti?]\n",
    "q: [kad ces u teslic]; a: [posle juna :d]\n",
    "q: [?]; a: [sta ti nije jasno]\n",
    "q: [. . .]; a: [sta jeeeeee sta mee seen razbicu tee docu sad ispred zgrade i zvonicu ti na interfon do ujutru]"
   ]
  }
 ],
 "metadata": {
  "kernelspec": {
   "display_name": "Python 3",
   "language": "python",
   "name": "python3"
  },
  "language_info": {
   "codemirror_mode": {
    "name": "ipython",
    "version": 3
   },
   "file_extension": ".py",
   "mimetype": "text/x-python",
   "name": "python",
   "nbconvert_exporter": "python",
   "pygments_lexer": "ipython3",
   "version": "3.5.3"
  }
 },
 "nbformat": 4,
 "nbformat_minor": 2
}
