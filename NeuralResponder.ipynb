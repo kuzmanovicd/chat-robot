{
 "cells": [
  {
   "cell_type": "code",
   "execution_count": 1,
   "metadata": {
    "collapsed": false,
    "deletable": true,
    "editable": true
   },
   "outputs": [],
   "source": [
    "import tensorflow as tf\n",
    "import numpy as np\n",
    "\n",
    "# preprocessed data\n",
    "from datasets.ana import data\n",
    "import data_utils\n",
    "import s2s"
   ]
  },
  {
   "cell_type": "code",
   "execution_count": 2,
   "metadata": {
    "collapsed": false,
    "deletable": true,
    "editable": true
   },
   "outputs": [
    {
     "name": "stdout",
     "output_type": "stream",
     "text": [
      "Building graph...\n",
      "Done...\n"
     ]
    }
   ],
   "source": [
    "\n",
    "# load data from pickle and npy files\n",
    "metadata, idx_q, idx_a = data.load_data(PATH='datasets/ana/')\n",
    "(trainX, trainY), (testX, testY), (validX, validY) = data_utils.split_dataset(idx_q, idx_a)\n",
    "\n",
    "# parameters \n",
    "x_len = trainX.shape[-1]\n",
    "y_len = trainY.shape[-1]\n",
    "batch_size = 64\n",
    "x_vocab_size = len(metadata['idx2w'])  \n",
    "y_vocab_size = x_vocab_size\n",
    "emb_dim = 364\n",
    "num_layers = 2\n",
    "\n",
    "model = s2s.S2S(x_len=x_len,\n",
    "                y_len=y_len,\n",
    "                x_vocab_size=x_vocab_size,\n",
    "                y_vocab_size=y_vocab_size,\n",
    "                ckpt_path='ckpt/ana/',\n",
    "                emb_dim=emb_dim,\n",
    "                num_layers=num_layers)"
   ]
  },
  {
   "cell_type": "code",
   "execution_count": 3,
   "metadata": {
    "collapsed": true,
    "deletable": true,
    "editable": true
   },
   "outputs": [],
   "source": [
    "sess = model.restore_last_session()"
   ]
  },
  {
   "cell_type": "code",
   "execution_count": 3,
   "metadata": {
    "collapsed": false,
    "deletable": true,
    "editable": true,
    "scrolled": true
   },
   "outputs": [],
   "source": [
    "def sentence_to_indexes(sen):\n",
    "    words = sen.split(' ')\n",
    "    \n",
    "    indices = []\n",
    "    \n",
    "    for word in words:\n",
    "        indices.append(metadata['w2idx'][word])\n",
    "    \n",
    "    indices = indices + [0]*(25 - len(indices))\n",
    "    \n",
    "    arr = np.array([indices])\n",
    "    arr = np.transpose(arr)\n",
    "    return arr\n",
    "\n",
    "def ask(str):\n",
    "    input_ = sentence_to_indexes(str)\n",
    "\n",
    "    #print(input_.shape)\n",
    "    #print(input_)\n",
    "    output = model.predict(sess, input_)\n",
    "    #print(output)\n",
    "    #test = model.advance_predict(sess, input_)\n",
    "\n",
    "    for i in output:\n",
    "        decoded = data_utils.decode(sequence=i, lookup=metadata['idx2w'], separator=' ').split(' ')\n",
    "        print('q: [{0}]; a: [{1}]'.format(str, ' '.join(decoded)))\n",
    "        #print(' '.join(decoded))\n"
   ]
  },
  {
   "cell_type": "code",
   "execution_count": 2,
   "metadata": {
    "collapsed": false,
    "deletable": true,
    "editable": true
   },
   "outputs": [
    {
     "ename": "NameError",
     "evalue": "name 'ask' is not defined",
     "output_type": "error",
     "traceback": [
      "\u001b[0;31m---------------------------------------------------------------------------\u001b[0m",
      "\u001b[0;31mNameError\u001b[0m                                 Traceback (most recent call last)",
      "\u001b[0;32m<ipython-input-2-06b39a826bdf>\u001b[0m in \u001b[0;36m<module>\u001b[0;34m()\u001b[0m\n\u001b[0;32m----> 1\u001b[0;31m \u001b[0mask\u001b[0m\u001b[1;33m(\u001b[0m\u001b[1;34m'sta radis bre'\u001b[0m\u001b[1;33m)\u001b[0m\u001b[1;33m\u001b[0m\u001b[0m\n\u001b[0m",
      "\u001b[0;31mNameError\u001b[0m: name 'ask' is not defined"
     ]
    }
   ],
   "source": [
    "ask('sta radis bre')"
   ]
  },
  {
   "cell_type": "code",
   "execution_count": 82,
   "metadata": {
    "collapsed": false,
    "deletable": true,
    "editable": true
   },
   "outputs": [
    {
     "name": "stdout",
     "output_type": "stream",
     "text": [
      "(4,)\n"
     ]
    }
   ],
   "source": [
    "q: [a nemoj da se ljutis sada]; a: [sta je ?]\n",
    "q: [pa onda pomeri da ustanes u 10 subota je , sto moras tako rano :d imas opet ceo dan da ucis]; a: [ne lagi , imam u 9:15 ?]\n",
    "q: [smrc :d]; a: [aj videcu koliko uspem zavrsiti do tad :f :d]\n",
    "q: [<3]; a: [e bosno moja  <3]\n",
    "q: [hej bona]; a: [hajde , idi kod koleginice .]\n",
    "q: [jesi luda !]; a: [pa meni se iznerviram kad se setim koliko sam glupa nesto , a ne mogu ucitu xd *uciti]\n",
    "q: [moram da ucim]; a: [sto ? :p]\n",
    "q: [! ! ! !]; a: [sta je ?]\n",
    "q: [dobio sam 10]; a: [znala sam :d sta ti ti ? :d]\n",
    "q: [hocu jagodu]; a: [ok . :d]"
   ]
  }
 ],
 "metadata": {
  "kernelspec": {
   "display_name": "Python 3",
   "language": "python",
   "name": "python3"
  },
  "language_info": {
   "codemirror_mode": {
    "name": "ipython",
    "version": 3
   },
   "file_extension": ".py",
   "mimetype": "text/x-python",
   "name": "python",
   "nbconvert_exporter": "python",
   "pygments_lexer": "ipython3",
   "version": "3.5.3"
  }
 },
 "nbformat": 4,
 "nbformat_minor": 2
}
