{
 "cells": [
  {
   "cell_type": "code",
   "execution_count": 1,
   "metadata": {
    "collapsed": false,
    "deletable": true,
    "editable": true
   },
   "outputs": [],
   "source": [
    "import tensorflow as tf\n",
    "import numpy as np\n",
    "\n",
    "# preprocessed data\n",
    "from datasets.ana import data\n",
    "import data_utils\n",
    "import s2s"
   ]
  },
  {
   "cell_type": "code",
   "execution_count": 2,
   "metadata": {
    "collapsed": false,
    "deletable": true,
    "editable": true
   },
   "outputs": [
    {
     "name": "stdout",
     "output_type": "stream",
     "text": [
      "Building graph...\n",
      "Done...\n"
     ]
    }
   ],
   "source": [
    "\n",
    "# load data from pickle and npy files\n",
    "metadata, idx_q, idx_a = data.load_data(PATH='datasets/ana/')\n",
    "(trainX, trainY), (testX, testY), (validX, validY) = data_utils.split_dataset(idx_q, idx_a)\n",
    "\n",
    "# parameters \n",
    "x_len = trainX.shape[-1]\n",
    "y_len = trainY.shape[-1]\n",
    "batch_size = 64\n",
    "x_vocab_size = len(metadata['idx2w'])  \n",
    "y_vocab_size = x_vocab_size\n",
    "emb_dim = 364\n",
    "num_layers = 2\n",
    "\n",
    "model = s2s.S2S(x_len=x_len,\n",
    "                y_len=y_len,\n",
    "                x_vocab_size=x_vocab_size,\n",
    "                y_vocab_size=y_vocab_size,\n",
    "                ckpt_path='ckpt/ana/',\n",
    "                emb_dim=emb_dim,\n",
    "                num_layers=num_layers)"
   ]
  },
  {
   "cell_type": "code",
   "execution_count": 3,
   "metadata": {
    "collapsed": true,
    "deletable": true,
    "editable": true
   },
   "outputs": [],
   "source": [
    "sess = model.restore_last_session()"
   ]
  },
  {
   "cell_type": "code",
   "execution_count": 14,
   "metadata": {
    "collapsed": false,
    "deletable": true,
    "editable": true
   },
   "outputs": [
    {
     "name": "stdout",
     "output_type": "stream",
     "text": [
      "(25, 10)\n",
      "q : [smrc :d]; a : [aj videcu koliko uspem zavrsiti do tad :f :d]\n",
      "q : [volim ja tvoje sporo :* i nezno ne mozes i ti biti bosanac u krevetu]; a : [:( ne zelim da mi placas :(]\n",
      "q : [poslao sam ti mail , za dobro jutro . :p]; a : [pa hajde , kad si ti otici kad se vratim :d]\n",
      "q : [jebacu ti picku .]; a : [ljubica sam se i drugima , pa sam ostavljena zbog drugih . potrudicu se .]\n",
      "q : [jebiga treba krvi mnogo da ode dole a meni srce krhko i slabo nezan labud]; a : [* - -]\n",
      "q : [ima da trckaras oko njega sklekove da radis uz blowjob pa gore dole]; a : [sto ? :p]\n",
      "q : [haha]; a : [a budaloooooo :d]\n",
      "q : [hocu :(]; a : [haha neces gledao u jambu . . ? :d]\n",
      "q : [nisam ja krov kriv*]; a : [sad ne poziram :d samo 2 puta . :p]\n",
      "q : [jeej :f]; a : [do kad ? :d]\n"
     ]
    }
   ],
   "source": [
    "test_batch_gen = data_utils.rand_batch_gen(testX, testY, 10)\n",
    "\n",
    "input_ = test_batch_gen.__next__()[0]\n",
    "\n",
    "print(input_.shape)\n",
    "#print(input_)\n",
    "output = model.predict(sess, input_)\n",
    "\n",
    "replies = []\n",
    "for ii, oi in zip(input_.T, output):\n",
    "    q = data_utils.decode(sequence=ii, lookup=metadata['idx2w'], separator=' ')\n",
    "    decoded = data_utils.decode(sequence=oi, lookup=metadata['idx2w'], separator=' ').split(' ')\n",
    "    \n",
    "    #print(ii)\n",
    "    #print(q)\n",
    "    #print(decoded)\n",
    "\n",
    "    if decoded.count('unk') == 0:\n",
    "        if decoded not in replies:\n",
    "            print('q : [{0}]; a : [{1}]'.format(q, ' '.join(decoded)))\n",
    "            replies.append(decoded)"
   ]
  },
  {
   "cell_type": "code",
   "execution_count": 19,
   "metadata": {
    "collapsed": false,
    "deletable": true,
    "editable": true,
    "scrolled": true
   },
   "outputs": [],
   "source": [
    "def sentence_to_indexes(sen):\n",
    "    words = sen.split(' ')\n",
    "    \n",
    "    indices = []\n",
    "    \n",
    "    for word in words:\n",
    "        indices.append(metadata['w2idx'][word])\n",
    "    \n",
    "    indices = indices + [0]*(25 - len(indices))\n",
    "    \n",
    "    arr = np.array([indices])\n",
    "    arr = np.transpose(arr)\n",
    "    return arr\n",
    "\n",
    "def ask(str):\n",
    "    input_ = sentence_to_indexes(str)\n",
    "\n",
    "    #print(input_.shape)\n",
    "    #print(input_)\n",
    "    output = model.predict(sess, input_)\n",
    "    #print(output)\n",
    "    #test = model.advance_predict(sess, input_)\n",
    "\n",
    "    for i in output:\n",
    "        decoded = data_utils.decode(sequence=i, lookup=metadata['idx2w'], separator=' ').split(' ')\n",
    "        print(' '.join(decoded))\n"
   ]
  },
  {
   "cell_type": "code",
   "execution_count": 22,
   "metadata": {
    "collapsed": false,
    "deletable": true,
    "editable": true
   },
   "outputs": [
    {
     "name": "stdout",
     "output_type": "stream",
     "text": [
      "vazi , sad ce se ispresecala\n"
     ]
    },
    {
     "ename": "TypeError",
     "evalue": "'numpy.int64' object is not iterable",
     "output_type": "error",
     "traceback": [
      "\u001b[0;31m---------------------------------------------------------------------------\u001b[0m",
      "\u001b[0;31mTypeError\u001b[0m                                 Traceback (most recent call last)",
      "\u001b[0;32m<ipython-input-22-1f437ac005b5>\u001b[0m in \u001b[0;36m<module>\u001b[0;34m()\u001b[0m\n\u001b[1;32m      1\u001b[0m \u001b[1;31m#sentence_to_indexes()\u001b[0m\u001b[1;33m\u001b[0m\u001b[1;33m\u001b[0m\u001b[0m\n\u001b[0;32m----> 2\u001b[0;31m \u001b[0mask\u001b[0m\u001b[1;33m(\u001b[0m\u001b[1;34m'hej'\u001b[0m\u001b[1;33m)\u001b[0m\u001b[1;33m\u001b[0m\u001b[0m\n\u001b[0m",
      "\u001b[0;32m<ipython-input-19-3bf865c9187a>\u001b[0m in \u001b[0;36mask\u001b[0;34m(str)\u001b[0m\n\u001b[1;32m     26\u001b[0m         \u001b[0mprint\u001b[0m\u001b[1;33m(\u001b[0m\u001b[1;34m' '\u001b[0m\u001b[1;33m.\u001b[0m\u001b[0mjoin\u001b[0m\u001b[1;33m(\u001b[0m\u001b[0mdecoded\u001b[0m\u001b[1;33m)\u001b[0m\u001b[1;33m)\u001b[0m\u001b[1;33m\u001b[0m\u001b[0m\n\u001b[1;32m     27\u001b[0m \u001b[1;33m\u001b[0m\u001b[0m\n\u001b[0;32m---> 28\u001b[0;31m     \u001b[1;32mfor\u001b[0m \u001b[0mi\u001b[0m \u001b[1;32min\u001b[0m \u001b[0moutput_2\u001b[0m\u001b[1;33m:\u001b[0m\u001b[1;33m\u001b[0m\u001b[0m\n\u001b[0m\u001b[1;32m     29\u001b[0m         \u001b[0mdecoded\u001b[0m \u001b[1;33m=\u001b[0m \u001b[0mdata_utils\u001b[0m\u001b[1;33m.\u001b[0m\u001b[0mdecode\u001b[0m\u001b[1;33m(\u001b[0m\u001b[0msequence\u001b[0m\u001b[1;33m=\u001b[0m\u001b[0mi\u001b[0m\u001b[1;33m,\u001b[0m \u001b[0mlookup\u001b[0m\u001b[1;33m=\u001b[0m\u001b[0mmetadata\u001b[0m\u001b[1;33m[\u001b[0m\u001b[1;34m'idx2w'\u001b[0m\u001b[1;33m]\u001b[0m\u001b[1;33m,\u001b[0m \u001b[0mseparator\u001b[0m\u001b[1;33m=\u001b[0m\u001b[1;34m' '\u001b[0m\u001b[1;33m)\u001b[0m\u001b[1;33m.\u001b[0m\u001b[0msplit\u001b[0m\u001b[1;33m(\u001b[0m\u001b[1;34m' '\u001b[0m\u001b[1;33m)\u001b[0m\u001b[1;33m\u001b[0m\u001b[0m\n\u001b[1;32m     30\u001b[0m         \u001b[0mprint\u001b[0m\u001b[1;33m(\u001b[0m\u001b[1;34m' '\u001b[0m\u001b[1;33m.\u001b[0m\u001b[0mjoin\u001b[0m\u001b[1;33m(\u001b[0m\u001b[0mdecoded\u001b[0m\u001b[1;33m)\u001b[0m\u001b[1;33m)\u001b[0m\u001b[1;33m\u001b[0m\u001b[0m\n",
      "\u001b[0;31mTypeError\u001b[0m: 'numpy.int64' object is not iterable"
     ]
    }
   ],
   "source": [
    "#sentence_to_indexes()\n",
    "ask('hej')"
   ]
  },
  {
   "cell_type": "code",
   "execution_count": 82,
   "metadata": {
    "collapsed": false,
    "deletable": true,
    "editable": true
   },
   "outputs": [
    {
     "name": "stdout",
     "output_type": "stream",
     "text": [
      "(4,)\n"
     ]
    }
   ],
   "source": [
    "x = np.array([2,3,1,0])\n",
    "print(x.shape)"
   ]
  }
 ],
 "metadata": {
  "kernelspec": {
   "display_name": "Python 3",
   "language": "python",
   "name": "python3"
  },
  "language_info": {
   "codemirror_mode": {
    "name": "ipython",
    "version": 3
   },
   "file_extension": ".py",
   "mimetype": "text/x-python",
   "name": "python",
   "nbconvert_exporter": "python",
   "pygments_lexer": "ipython3",
   "version": "3.5.3"
  }
 },
 "nbformat": 4,
 "nbformat_minor": 2
}
